{
 "cells": [
  {
   "cell_type": "code",
   "execution_count": 1,
   "metadata": {},
   "outputs": [],
   "source": [
    "import numpy as np\n",
    "import skfuzzy as fuzzy\n",
    "from skfuzzy import control as ctrl"
   ]
  },
  {
   "cell_type": "code",
   "execution_count": 2,
   "metadata": {
    "pycharm": {
     "name": "#%%\n"
    }
   },
   "outputs": [],
   "source": [
    "#User temperature possible inputs from 22 to 30 with one difference:\n",
    "ut = ctrl.Antecedent(np.arange(22, 31, 1), 'UT')\n",
    "#User temperature membership functions:\n",
    "ut['low'] = fuzzy.trimf(ut.universe,[-100,22,25])\n",
    "ut['optimal'] = fuzzy.trimf(ut.universe,[22,25,28])\n",
    "ut['high'] = fuzzy.trapmf(ut.universe,[25,28,30,100])"
   ]
  },
  {
   "cell_type": "code",
   "execution_count": 3,
   "metadata": {
    "pycharm": {
     "name": "#%%\n"
    }
   },
   "outputs": [],
   "source": [
    "#Temperature difference possible inputs from -1 to 3 with 0.1 difference:\n",
    "tDif = ctrl.Antecedent(np.arange(-1, 3.1, 0.1), 'TDif')\n",
    "#Temperature difference membership functions:\n",
    "tDif['negative'] = fuzzy.trapmf(tDif.universe,[-5,-1,-0.9,0])\n",
    "tDif['zero'] = fuzzy.trimf(tDif.universe,[-0.5,0,0.5])\n",
    "tDif['positive'] = fuzzy.trimf(tDif.universe,[0,1,2])\n",
    "tDif['large'] = fuzzy.trapmf(tDif.universe,[1,2,3,5])"
   ]
  },
  {
   "cell_type": "code",
   "execution_count": 4,
   "outputs": [],
   "source": [
    "#Dew Point possible inputs from 10 to 18 with one difference:\n",
    "td = ctrl.Antecedent(np.arange(10, 18, 1), 'Td')\n",
    "#User temperature membership functions:\n",
    "td['optimal'] = fuzzy.trapmf(td.universe,[0,10,11,14])\n",
    "td['humid'] = fuzzy.trapmf(td.universe,[12,15,18,28])"
   ],
   "metadata": {
    "collapsed": false,
    "pycharm": {
     "name": "#%%\n"
    }
   }
  },
  {
   "cell_type": "code",
   "execution_count": 5,
   "outputs": [],
   "source": [
    "#Electric Volt possible inputs from 130 to 220 with 10 difference:\n",
    "ev = ctrl.Antecedent(np.arange(130, 230, 10), 'EV')\n",
    "#Electric Volt membership functions:\n",
    "ev['low'] = fuzzy.trapmf(ev.universe,[100,130,160,180])\n",
    "ev['regular'] = fuzzy.trapmf(ev.universe,[170,190,220,250])\n"
   ],
   "metadata": {
    "collapsed": false,
    "pycharm": {
     "name": "#%%\n"
    }
   }
  },
  {
   "cell_type": "code",
   "execution_count": 6,
   "outputs": [],
   "source": [
    "#Compressor Speed  possible outputs from 0 to 100 with 10 difference:\n",
    "sc = ctrl.Consequent(np.arange(0, 110, 10), 'SC')\n",
    "#Compressor Speed membership functions:\n",
    "sc['low'] = fuzzy.trapmf(sc.universe,[-10,0,30,50])\n",
    "sc['medium'] = fuzzy.trimf(sc.universe,[40,60,80])\n",
    "sc['fast'] = fuzzy.trapmf(sc.universe,[70,90,100,110])"
   ],
   "metadata": {
    "collapsed": false,
    "pycharm": {
     "name": "#%%\n"
    }
   }
  },
  {
   "cell_type": "code",
   "execution_count": 7,
   "outputs": [],
   "source": [
    "#Fan Speed  possible outputs from 0 to 100 with 10 difference:\n",
    "fc = ctrl.Consequent(np.arange(0, 110, 10), 'FC')\n",
    "#Fan Speed membership functions:\n",
    "fc['low'] = fuzzy.trapmf(fc.universe,[-10,0,30,50])\n",
    "fc['medium'] = fuzzy.trimf(fc.universe,[40,60,80])\n",
    "fc['fast'] = fuzzy.trapmf(fc.universe,[70,90,100,110])"
   ],
   "metadata": {
    "collapsed": false,
    "pycharm": {
     "name": "#%%\n"
    }
   }
  },
  {
   "cell_type": "code",
   "execution_count": 8,
   "outputs": [],
   "source": [
    "#Mode of operation possible outputs from 0 to 1 with 0.1 difference:\n",
    "mo = ctrl.Consequent(np.arange(0, 1.1, 0.1), 'Mo')\n",
    "#Electric Volt membership functions:\n",
    "mo['AC'] = fuzzy.trimf(mo.universe,[0,0,1])\n",
    "mo['DE'] = fuzzy.trimf(mo.universe,[0,1,1])"
   ],
   "metadata": {
    "collapsed": false,
    "pycharm": {
     "name": "#%%\n"
    }
   }
  },
  {
   "cell_type": "code",
   "execution_count": 9,
   "outputs": [],
   "source": [
    "# Fin direction possible outputs from 25 to 75 with 5 difference:\n",
    "fn = ctrl.Consequent(np.arange(25, 80, 5), 'Fn')\n",
    "#Fin direction  membership functions:\n",
    "fn['away'] = fuzzy.trimf(fn.universe,[0,25,75])\n",
    "fn['towards'] = fuzzy.trimf(fn.universe,[25,75,100])"
   ],
   "metadata": {
    "collapsed": false,
    "pycharm": {
     "name": "#%%\n"
    }
   }
  },
  {
   "cell_type": "code",
   "execution_count": 10,
   "outputs": [],
   "source": [
    "#fuzzy rule base\n",
    "rule1 = ctrl.Rule(\n",
    "    (ut['low'] & tDif ['negative']) & td['optimal'] & ev['low'], (sc['low'], fc['low'], mo['AC'], fn['away']))  \n",
    "rule2 = ctrl.Rule(\n",
    "    (ut['optimal'] & tDif ['negative']) & td['optimal'] & ev['low'], (sc['low'], fc['low'], mo['AC'], fn['away'])) \n",
    "rule3 = ctrl.Rule(\n",
    "    (ut['high'] & tDif ['negative']) & td['optimal'] & ev['low'], (sc['low'], fc['low'], mo['AC'], fn['away'])) \n",
    "rule4 = ctrl.Rule(\n",
    "    (ut['low'] & tDif ['zero']) & td['optimal'] & ev['low'], (sc['low'], fc['low'], mo['AC'], fn['away'])) \n",
    "rule5 = ctrl.Rule(\n",
    "    (ut['optimal'] & tDif ['zero']) & td['optimal'] & ev['low'], (sc['low'], fc['low'], mo['AC'], fn['away'])) \n",
    "rule6 = ctrl.Rule(\n",
    "    (ut['high'] & tDif ['zero']) & td['optimal'] & ev['low'], (sc['low'], fc['low'], mo['AC'], fn['away'])) \n",
    "rule7 = ctrl.Rule(\n",
    "    (ut['low'] & tDif ['positive']) & td['optimal'] & ev['low'], (sc['low'], fc['low'], mo['AC'], fn['away'])) \n",
    "rule8 = ctrl.Rule(\n",
    "    (ut['optimal'] & tDif ['positive']) & td['optimal'] & ev['low'], (sc['low'], fc['low'], mo['AC'], fn['away'])) \n",
    "rule9 = ctrl.Rule(\n",
    "    (ut['high'] & tDif ['positive']) & td['optimal'] & ev['low'], (sc['low'], fc['low'], mo['AC'], fn['away'])) \n",
    "rule10 = ctrl.Rule(\n",
    "    (ut['low'] & tDif ['large']) & td['optimal'] & ev['low'], (sc['low'], fc['low'], mo['AC'], fn['away']))\n",
    "rule11 = ctrl.Rule(\n",
    "    (ut['optimal'] & tDif ['large']) & td['optimal'] & ev['low'], (sc['low'], fc['low'], mo['AC'], fn['away'])) \n",
    "rule12 = ctrl.Rule(\n",
    "    (ut['high'] & tDif ['large']) & td['optimal'] & ev['low'], (sc['low'], fc['low'], mo['AC'], fn['away'])) \n",
    "rule13 = ctrl.Rule(\n",
    "    (ut['low'] & tDif ['negative']) & td['optimal'] & ev['regular'], (sc['low'], fc['low'], mo['AC'], fn['away']))\n",
    "rule14 = ctrl.Rule(\n",
    "    (ut['optimal'] & tDif ['zero']) & td['optimal'] & ev['regular'], (sc['low'], fc['low'], mo['AC'], fn['away']))  \n",
    "rule15 = ctrl.Rule(\n",
    "    (ut['high'] & tDif ['negative']) & td['optimal'] & ev['regular'], (sc['low'], fc['low'], mo['AC'], fn['away'])) \n",
    "rule16 = ctrl.Rule(\n",
    "    (ut['low'] & tDif ['zero']) & td['optimal'] & ev['regular'], (sc['low'], fc['fast'], mo['AC'], fn['towards'])) \n",
    "rule17 = ctrl.Rule(\n",
    "    (ut['optimal'] & tDif ['zero']) & td['optimal'] & ev['regular'], (sc['low'], fc['medium'], mo['AC'], fn['towards']))\n",
    "rule18 = ctrl.Rule(\n",
    "    (ut['high'] & tDif ['zero']) & td['optimal'] & ev['regular'], (sc['low'], fc['low'], mo['AC'], fn['away']))\n",
    "rule19 = ctrl.Rule(\n",
    "    (ut['low'] & tDif ['positive']) & td['optimal'] & ev['regular'], (sc['fast'], fc['fast'], mo['AC'], fn['towards']))\n",
    "rule20 = ctrl.Rule(\n",
    "    (ut['optimal'] & tDif ['positive']) & td['optimal'] & ev['regular'], (sc['medium'], fc['medium'], mo['AC'], fn['towards']))\n",
    "rule21 = ctrl.Rule(\n",
    "    (ut['high'] & tDif ['positive']) & td['optimal'] & ev['regular'], (sc['medium'], fc['medium'], mo['AC'], fn['towards']))\n",
    "rule22 = ctrl.Rule(\n",
    "    (ut['low'] & tDif ['large']) & td['optimal'] & ev['regular'], (sc['fast'], fc['fast'], mo['AC'], fn['towards']))\n",
    "rule23 = ctrl.Rule(\n",
    "    (ut['optimal'] & tDif ['large']) & td['optimal'] & ev['regular'], (sc['fast'], fc['fast'], mo['AC'], fn['towards']))\n",
    "rule24 = ctrl.Rule(\n",
    "    (ut['high'] & tDif ['large']) & td['optimal'] & ev['regular'], (sc['fast'], fc['fast'], mo['AC'], fn['towards']))\n",
    "rule25 = ctrl.Rule(\n",
    "    (ut['low'] & tDif ['negative']) & td['humid'] & ev['low'], (sc['low'], fc['low'], mo['AC'], fn['away']))\n",
    "rule26 = ctrl.Rule(\n",
    "    (ut['optimal'] & tDif ['negative']) & td['humid'] & ev['low'], (sc['low'], fc['low'], mo['AC'], fn['away']))\n",
    "rule27 = ctrl.Rule(\n",
    "    (ut['high'] & tDif ['negative']) & td['humid'] & ev['low'], (sc['low'], fc['low'], mo['AC'], fn['away']))\n",
    "rule28 = ctrl.Rule(\n",
    "    (ut['low'] & tDif ['zero']) & td['humid'] & ev['low'], (sc['low'], fc['low'], mo['AC'], fn['away']))\n",
    "rule29 = ctrl.Rule(\n",
    "    (ut['optimal'] & tDif ['zero']) & td['humid'] & ev['low'], (sc['low'], fc['low'], mo['AC'], fn['away']))\n",
    "rule30 = ctrl.Rule(\n",
    "    (ut['high'] & tDif ['zero']) & td['humid'] & ev['low'], (sc['low'], fc['low'], mo['AC'], fn['away']))\n",
    "rule31 = ctrl.Rule(\n",
    "    (ut['low'] & tDif ['positive']) & td['humid'] & ev['low'], (sc['low'], fc['low'], mo['AC'], fn['away']))\n",
    "rule32 = ctrl.Rule(\n",
    "    (ut['optimal'] & tDif ['positive']) & td['humid'] & ev['low'], (sc['low'], fc['low'], mo['AC'], fn['away']))\n",
    "rule33 = ctrl.Rule(\n",
    "    (ut['high'] & tDif ['positive']) & td['humid'] & ev['low'], (sc['low'], fc['low'], mo['AC'], fn['away']))\n",
    "rule34 = ctrl.Rule(\n",
    "    (ut['low'] & tDif ['large']) & td['humid'] & ev['low'], (sc['low'], fc['low'], mo['AC'], fn['away']))\n",
    "rule35 = ctrl.Rule(\n",
    "    (ut['optimal'] & tDif ['large']) & td['humid'] & ev['low'], (sc['low'], fc['low'], mo['AC'], fn['away']))\n",
    "rule36 = ctrl.Rule(\n",
    "    (ut['high'] & tDif ['large']) & td['humid'] & ev['low'], (sc['low'], fc['low'], mo['AC'], fn['away']))\n",
    "rule37 = ctrl.Rule(\n",
    "    (ut['low'] & tDif ['negative']) & td['humid'] & ev['regular'], (sc['fast'], fc['fast'], mo['DE'], fn['towards']))\n",
    "rule38 = ctrl.Rule(\n",
    "    (ut['optimal'] & tDif ['negative']) & td['humid'] & ev['regular'], (sc['low'], fc['low'], mo['DE'], fn['away']))\n",
    "rule39 = ctrl.Rule(\n",
    "    (ut['high'] & tDif ['negative']) & td['humid'] & ev['regular'], (sc['low'], fc['low'], mo['DE'], fn['away']))\n",
    "rule40 = ctrl.Rule(\n",
    "    (ut['low'] & tDif ['zero']) & td['humid'] & ev['regular'], (sc['fast'], fc['fast'], mo['DE'], fn['towards']))\n",
    "rule41 = ctrl.Rule(\n",
    "    (ut['optimal'] & tDif ['zero']) & td['humid'] & ev['regular'], (sc['medium'], fc['fast'], mo['DE'], fn['towards']))\n",
    "rule42 = ctrl.Rule(\n",
    "    (ut['high'] & tDif ['zero']) & td['humid'] & ev['regular'], (sc['medium'], fc['medium'], mo['DE'], fn['towards']))\n",
    "rule43 = ctrl.Rule(\n",
    "    (ut['low'] & tDif ['positive']) & td['humid'] & ev['regular'], (sc['fast'], fc['fast'], mo['AC'], fn['towards']))\n",
    "rule44 = ctrl.Rule(\n",
    "    (ut['optimal'] & tDif ['positive']) & td['humid'] & ev['regular'], (sc['fast'], fc['fast'], mo['AC'], fn['towards']))\n",
    "rule45 = ctrl.Rule(\n",
    "    (ut['high'] & tDif ['positive']) & td['humid'] & ev['regular'], (sc['medium'], fc['fast'], mo['AC'], fn['towards']))\n",
    "rule46 = ctrl.Rule(\n",
    "    (ut['low'] & tDif ['large']) & td['humid'] & ev['regular'], (sc['fast'], fc['fast'], mo['AC'], fn['towards']))\n",
    "rule47 = ctrl.Rule(\n",
    "    (ut['optimal'] & tDif ['large']) & td['humid'] & ev['regular'], (sc['fast'], fc['fast'], mo['AC'], fn['towards']))\n",
    "rule48 = ctrl.Rule(\n",
    "    (ut['high'] & tDif ['large']) & td['humid'] & ev['regular'], (sc['fast'], fc['fast'], mo['AC'], fn['towards']))\n",
    " "
   ],
   "metadata": {
    "collapsed": false,
    "pycharm": {
     "name": "#%%\n"
    }
   }
  },
  {
   "cell_type": "code",
   "execution_count": 11,
   "outputs": [],
   "source": [
    "# Control System Creation and Simulation\n",
    "cmd_ctrl = ctrl.ControlSystem([rule1, rule2,rule3,rule4,rule5,rule6,rule7,rule8,rule9,rule10, rule11, rule12,rule13,rule14,rule15,rule16,rule17,rule18,rule19,rule20,rule21, rule22,rule23,rule24,rule25,rule26,rule27,rule28,rule29,rule30, rule31, rule32,rule33,rule34,rule35,rule36,rule37,rule38,rule39,rule40, rule41, rule42,rule43,rule44,rule45,rule46,rule47,rule48 ])\n",
    "cmd_output = ctrl.ControlSystemSimulation(cmd_ctrl)\n",
    "\n"
   ],
   "metadata": {
    "collapsed": false,
    "pycharm": {
     "name": "#%%\n"
    }
   }
  },
  {
   "cell_type": "code",
   "execution_count": 12,
   "outputs": [],
   "source": [
    "cmd_output.input['UT'] = 25\n",
    "cmd_output.input['TDif'] = -0.5\n",
    "cmd_output.input['EV'] = 150\n",
    "cmd_output.input['Td'] = 15\n",
    "\n",
    "cmd_output.compute()"
   ],
   "metadata": {
    "collapsed": false,
    "pycharm": {
     "name": "#%%\n"
    }
   }
  },
  {
   "cell_type": "code",
   "execution_count": 13,
   "outputs": [
    {
     "name": "stderr",
     "output_type": "stream",
     "text": [
      "C:\\Users\\Mustafa\\miniconda3\\lib\\site-packages\\skfuzzy\\control\\fuzzyvariable.py:122: UserWarning: Matplotlib is currently using module://ipykernel.pylab.backend_inline, which is a non-GUI backend, so cannot show the figure.\n",
      "  fig.show()\n"
     ]
    },
    {
     "data": {
      "text/plain": "<Figure size 432x288 with 1 Axes>",
      "image/png": "[encoded data removed]"
     },
     "metadata": {
      "needs_background": "light"
     },
     "output_type": "display_data"
    }
   ],
   "source": [
    "sc.view(sim=cmd_output)"
   ],
   "metadata": {
    "collapsed": false,
    "pycharm": {
     "name": "#%%\n"
    }
   }
  }
 ],
 "metadata": {
  "kernelspec": {
   "name": "python3",
   "language": "python",
   "display_name": "Python 3"
  },
  "language_info": {
   "codemirror_mode": {
    "name": "ipython",
    "version": 3
   },
   "file_extension": ".py",
   "mimetype": "text/x-python",
   "name": "python",
   "nbconvert_exporter": "python",
   "pygments_lexer": "ipython3",
   "version": "3.8.5"
  }
 },
 "nbformat": 4,
 "nbformat_minor": 1
}